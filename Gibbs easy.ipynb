{
 "cells": [
  {
   "cell_type": "markdown",
   "metadata": {},
   "source": [
    "# Computation of the entropy at 1 bar and a given temperature, step by step"
   ]
  },
  {
   "cell_type": "markdown",
   "metadata": {},
   "source": [
    "The entropy at 1 bar and a given temperature is expressed as:\n",
    "\n",
    "$$ s(P_r,T) = s(P_r,T_r) + \\int_{P_r,T_r}^{P_r,T} \\frac{C_p}{T}dT$$"
   ]
  },
  {
   "cell_type": "code",
   "execution_count": 2,
   "metadata": {},
   "outputs": [],
   "source": [
    "import sympy as sp\n",
    "import numpy as np\n",
    "from sympy.interactive import printing\n",
    "printing.init_printing(use_latex = True)\n",
    "\n",
    "S_Pr_Tr = sp.Symbol(\"S(Pr, Tr)\")\n",
    "G_Pr_T  = sp.Symbol(\"G(Pr, T)\")\n",
    "G0,T,Tr = sp.symbols('G_0, T, Tr')\n",
    "c_1, c_2, c_3, c_4, c_5, c_6, c_7, c_8 = sp.symbols('c_1, c_2, c_3, c_4, c_5, c_6, c_7, c_8')"
   ]
  },
  {
   "cell_type": "markdown",
   "metadata": {},
   "source": [
    "## Heat capacity at a given temperature"
   ]
  },
  {
   "cell_type": "markdown",
   "metadata": {},
   "source": [
    "In Holland and Powell datasets, the heat capacity is expressed as the following polinomial with only $c_1$ to $c_5$ terms\n",
    "\n",
    "$$ C_p = c_1 +c_2T +\\frac{c_3}{T^2} + c_4T^2 + \\frac{c_5}{\\sqrt{T}} + \\frac{c_6}{T} + \\frac{c_7}{T^3} + c_8T^3 $$\n"
   ]
  },
  {
   "cell_type": "code",
   "execution_count": 7,
   "metadata": {},
   "outputs": [
    {
     "data": {
      "image/png": "[encoded data removed]",
      "text/latex": [
       "$$175.065094587832$$"
      ],
      "text/plain": [
       "175.065094587832"
      ]
     },
     "execution_count": 7,
     "metadata": {},
     "output_type": "execute_result"
    }
   ],
   "source": [
    "def Cp(T):\n",
    "    return c_1 +c_2*T +c_3/T**2 + c_4*T**2 + c_5/sp.sqrt(T) + c_6/T + c_7/T**3 + c_8*T**3\n",
    "Cp(1000).subs({c_1:233.3, c_2:.1494E-2, c_3:-603800, c_4:0, c_5:-1869.7 , c_6:0, c_7:0, c_8:0}).evalf()"
   ]
  },
  {
   "cell_type": "markdown",
   "metadata": {},
   "source": [
    "## Symbolic computation of the integral $C_p/T$"
   ]
  },
  {
   "cell_type": "code",
   "execution_count": 8,
   "metadata": {},
   "outputs": [],
   "source": [
    "Cp_T = (c_1 +c_2*T +c_3/T**2 + c_4*T**2 + c_5/sp.sqrt(T) + c_6/T + c_7/T**3 + c_8*T**3)/T"
   ]
  },
  {
   "cell_type": "code",
   "execution_count": 9,
   "metadata": {},
   "outputs": [
    {
     "data": {
      "image/png": "[encoded data removed]",
      "text/latex": [
       "$$\\frac{T^{3} c_{8} + T^{2} c_{4} + T c_{2} + c_{1} + \\frac{c_{6}}{T} + \\frac{c_{3}}{T^{2}} + \\frac{c_{7}}{T^{3}} + \\frac{c_{5}}{\\sqrt{T}}}{T}$$"
      ],
      "text/plain": [
       " 3       2                  c₆   c₃   c₇   c₅\n",
       "T ⋅c₈ + T ⋅c₄ + T⋅c₂ + c₁ + ── + ── + ── + ──\n",
       "                            T     2    3   √T\n",
       "                                 T    T      \n",
       "─────────────────────────────────────────────\n",
       "                      T                      "
      ]
     },
     "execution_count": 9,
     "metadata": {},
     "output_type": "execute_result"
    }
   ],
   "source": [
    "Cp_T"
   ]
  },
  {
   "cell_type": "code",
   "execution_count": 10,
   "metadata": {},
   "outputs": [
    {
     "data": {
      "image/png": "[encoded data removed]",
      "text/latex": [
       "$$T c_{2} + c_{1} \\log{\\left (T \\right )} - 5.69759671556911 c_{1} - 298.15 c_{2} + 5.62471312205355 \\cdot 10^{-6} c_{3} + 0.115827741662877 c_{5} - \\frac{c_{3}}{2 T^{2}} - \\frac{2 c_{5}}{\\sqrt{T}}$$"
      ],
      "text/plain": [
       "                                                                              \n",
       "T⋅c₂ + c₁⋅log(T) - 5.69759671556911⋅c₁ - 298.15⋅c₂ + 5.62471312205355e-6⋅c₃ + \n",
       "                                                                              \n",
       "                                                                              \n",
       "\n",
       "                        c₃    2⋅c₅\n",
       "0.115827741662877⋅c₅ - ──── - ────\n",
       "                          2    √T \n",
       "                       2⋅T        "
      ]
     },
     "metadata": {},
     "output_type": "display_data"
    }
   ],
   "source": [
    "integral_Cp_T = sp.integrate(Cp_T,(T,Tr,T)).subs({Tr:298.15,c_4:0,c_6:0,c_7:0,c_8:0})\n",
    "display(integral_Cp_T)"
   ]
  },
  {
   "cell_type": "markdown",
   "metadata": {},
   "source": [
    "recover the expression using the \"print\" command "
   ]
  },
  {
   "cell_type": "code",
   "execution_count": 12,
   "metadata": {},
   "outputs": [
    {
     "name": "stdout",
     "output_type": "stream",
     "text": [
      "T*c_2 + c_1*log(T) - 5.69759671556911*c_1 - 298.15*c_2 + 5.62471312205355e-6*c_3 + 0.115827741662877*c_5 - c_3/(2*T**2) - 2*c_5/sqrt(T)\n"
     ]
    }
   ],
   "source": [
    "print(integral_Cp_T)"
   ]
  },
  {
   "cell_type": "markdown",
   "metadata": {},
   "source": [
    "## Entropy at 1 bar and T"
   ]
  },
  {
   "cell_type": "markdown",
   "metadata": {},
   "source": [
    "The reference entropy at 1 bar and 298 K is the third law entropy given in thermodynamic tables which is the intrgral of $C_p$ from 0 K to 298 K. This assumes that there is no phase transition nor configurational entropy. "
   ]
  },
  {
   "cell_type": "code",
   "execution_count": 14,
   "metadata": {},
   "outputs": [],
   "source": [
    "def s(S_Pr_Tr,T):\n",
    "    return S_Pr_Tr + T*c_2 + c_1*sp.log(T) - 5.69759671556911*c_1 - 298.15*c_2 + 5.62471312205355e-6*c_3 + 0.115827741662877*c_5 - c_3/(2*T**2) - 2*c_5/sp.sqrt(T)\n"
   ]
  },
  {
   "cell_type": "code",
   "execution_count": 15,
   "metadata": {},
   "outputs": [
    {
     "data": {
      "image/png": "[encoded data removed]",
      "text/latex": [
       "$$277.071337198419$$"
      ],
      "text/plain": [
       "277.071337198419"
      ]
     },
     "execution_count": 15,
     "metadata": {},
     "output_type": "execute_result"
    }
   ],
   "source": [
    "s(95.1,1000).subs({c_1:233.3, c_2:.1494E-2, c_3:-603800, c_4:0, c_5:-1869.7 , c_6:0, c_7:0, c_8:0}).evalf()"
   ]
  },
  {
   "cell_type": "markdown",
   "metadata": {},
   "source": [
    "# Gibbs energy at 1 bar and temperature T"
   ]
  },
  {
   "cell_type": "markdown",
   "metadata": {},
   "source": [
    "Gibbs energy at 1 bar is the reference gibbs energy at 1 bar and 298 K ($G_0$) and the integral of the entropy at 1 bar (already computed above) from the reference temperature ($T_r$) to the given temperature ($T$)"
   ]
  },
  {
   "cell_type": "markdown",
   "metadata": {},
   "source": [
    "$$ G(P_r,T) = G_0 - \\int_{P_r,T_r}^{P_r,T} s(P_r,T)dT $$\n",
    "$$ G(P_r,T) = G_0 - \\int_{P_r,T_r}^{P_r,T} \\left[ s(P_r,T_r) + \\int_{P_r,T_r}^{P_r,T} \\frac{C_p}{T}dT \\right]dT $$"
   ]
  },
  {
   "cell_type": "code",
   "execution_count": 9,
   "metadata": {},
   "outputs": [],
   "source": [
    "integral_S_Pr_T = sp.integrate(S_Pr_Tr + integral_Cp_T,(T,Tr,T))"
   ]
  },
  {
   "cell_type": "code",
   "execution_count": 10,
   "metadata": {},
   "outputs": [
    {
     "data": {
      "image/png": "[encoded data removed]",
      "text/latex": [
       "$$S(Pr, Tr) T - 298.15 S(Pr, Tr) + 7478.8 \\sqrt{T} + 0.000747 T^{2} + 233.3 T \\log{\\left (T \\right )} - 1782.95408021245 T + 7081.65672162947 - \\frac{301900}{T}$$"
      ],
      "text/plain": [
       "                                                       2                      \n",
       "S(Pr, Tr)⋅T - 298.15⋅S(Pr, Tr) + 7478.8⋅√T + 0.000747⋅T  + 233.3⋅T⋅log(T) - 17\n",
       "                                                                              \n",
       "\n",
       "                                      301900\n",
       "82.95408021245⋅T + 7081.65672162947 - ──────\n",
       "                                        T   "
      ]
     },
     "execution_count": 10,
     "metadata": {},
     "output_type": "execute_result"
    }
   ],
   "source": [
    "integral_S_Pr_T.subs({Tr:298.15,c_1:233.3, c_2:.1494E-2, c_3:-603800, c_4:0, c_5:-1869.7, c_6:0, c_7:0, c_8:0})"
   ]
  },
  {
   "cell_type": "code",
   "execution_count": 11,
   "metadata": {},
   "outputs": [
    {
     "name": "stdout",
     "output_type": "stream",
     "text": [
      "S(Pr, Tr)*T - 298.15*S(Pr, Tr) + 7478.8*sqrt(T) + 0.000747*T**2 + 233.3*T*log(T) - 1782.95408021245*T + 7081.65672162947 - 301900/T\n"
     ]
    }
   ],
   "source": [
    "print(integral_S_Pr_T.subs({Tr:298.15,c_1:233.3, c_2:.1494E-2, c_3:-603800, c_4:0, c_5:-1869.7, c_6:0, c_7:0, c_8:0}))"
   ]
  },
  {
   "cell_type": "code",
   "execution_count": 12,
   "metadata": {},
   "outputs": [],
   "source": [
    "def g(G0,S_Pr_Tr,T):\n",
    "    return G0 -(S_Pr_Tr*T - 298.15*S_Pr_Tr + 7478.8*sp.sqrt(T) + 0.000747*T**2 + 233.3*T*sp.log(T) - 1782.95408021245*T + 7081.65672162947 - 301900/T)"
   ]
  },
  {
   "cell_type": "markdown",
   "metadata": {},
   "source": [
    "The following function give you the value of g at 1 bar by specifying the reference gibbs energy and reference entropy and the temperature of interest. "
   ]
  },
  {
   "cell_type": "code",
   "execution_count": 13,
   "metadata": {},
   "outputs": [
    {
     "data": {
      "image/png": "[encoded data removed]",
      "text/latex": [
       "$$-2200914.0$$"
      ],
      "text/plain": [
       "-2200914.00000000"
      ]
     },
     "execution_count": 13,
     "metadata": {},
     "output_type": "execute_result"
    }
   ],
   "source": [
    "g(-2200914,95.1,298.15).evalf()"
   ]
  },
  {
   "cell_type": "markdown",
   "metadata": {},
   "source": [
    "For instance the gibbs energy of forsterite at 1 bar and 1000 K is"
   ]
  },
  {
   "cell_type": "code",
   "execution_count": 14,
   "metadata": {},
   "outputs": [
    {
     "data": {
      "image/png": "[encoded data removed]",
      "text/latex": [
       "$$G(Pr, T) = -2340312.33974438$$"
      ],
      "text/plain": [
       "G(Pr, T) = -2340312.33974438"
      ]
     },
     "execution_count": 14,
     "metadata": {},
     "output_type": "execute_result"
    }
   ],
   "source": [
    "sp.Eq(G_Pr_T,g(-2200914,95.1,1000).evalf())"
   ]
  },
  {
   "cell_type": "markdown",
   "metadata": {},
   "source": [
    "Verified with PerpleX_6.8.3_OSX_10.6 and HP11 where $G(1,1000)=-2340312$"
   ]
  },
  {
   "cell_type": "markdown",
   "metadata": {},
   "source": [
    "## step by step"
   ]
  },
  {
   "cell_type": "markdown",
   "metadata": {},
   "source": [
    "We can do the intregal in two steps. First $$- \\int_{P_r,T_r}^{P_r,T} s(P_r,T)dT $$"
   ]
  },
  {
   "cell_type": "code",
   "execution_count": 42,
   "metadata": {},
   "outputs": [],
   "source": [
    "def integralS(S_Pr_Tr,T):\n",
    "    return -(S_Pr_Tr*T - 298.15*S_Pr_Tr + 7478.8*sp.sqrt(T) + 0.000747*T**2 + 233.3*T*sp.log(T) - 1782.95408021245*T + 7081.65672162947 - 301900/T)"
   ]
  },
  {
   "cell_type": "code",
   "execution_count": 47,
   "metadata": {},
   "outputs": [
    {
     "data": {
      "image/png": "[encoded data removed]",
      "text/latex": [
       "$$-139398.339744385$$"
      ],
      "text/plain": [
       "-139398.339744385"
      ]
     },
     "execution_count": 47,
     "metadata": {},
     "output_type": "execute_result"
    }
   ],
   "source": [
    "integralS(95.1,1000).evalf()"
   ]
  },
  {
   "cell_type": "markdown",
   "metadata": {},
   "source": []
  },
  {
   "cell_type": "markdown",
   "metadata": {},
   "source": [
    "Holland integral"
   ]
  },
  {
   "cell_type": "code",
   "execution_count": 71,
   "metadata": {},
   "outputs": [
    {
     "data": {
      "image/png": "[encoded data removed]",
      "text/latex": [
       "$$- T \\left(\\frac{T^{3} c_{8}}{3} + \\frac{T^{2} c_{4}}{2} + T c_{2} - \\frac{T_{r}^{3} c_{8}}{3} - \\frac{T_{r}^{2} c_{4}}{2} - T_{r} c_{2} + c_{1} \\log{\\left (T \\right )} - c_{1} \\log{\\left (T_{r} \\right )} + \\frac{c_{6}}{T_{r}} + \\frac{c_{3}}{2 T_{r}^{2}} + \\frac{c_{7}}{3 T_{r}^{3}} + \\frac{2 c_{5}}{\\sqrt{T_{r}}} - \\frac{c_{6}}{T} - \\frac{c_{3}}{2 T^{2}} - \\frac{c_{7}}{3 T^{3}} - \\frac{2 c_{5}}{\\sqrt{T}}\\right)$$"
      ],
      "text/plain": [
       "   ⎛ 3       2               3        2                                       \n",
       "   ⎜T ⋅c₈   T ⋅c₄          Tᵣ ⋅c₈   Tᵣ ⋅c₄                                    \n",
       "-T⋅⎜───── + ───── + T⋅c₂ - ────── - ────── - Tᵣ⋅c₂ + c₁⋅log(T) - c₁⋅log(Tᵣ) + \n",
       "   ⎜  3       2              3        2                                       \n",
       "   ⎝                                                                          \n",
       "\n",
       "                                                     ⎞\n",
       "c₆     c₃      c₇     2⋅c₅    c₆    c₃     c₇    2⋅c₅⎟\n",
       "── + ───── + ───── + ────── - ── - ──── - ──── - ────⎟\n",
       "Tᵣ       2       3     ____   T       2      3    √T ⎟\n",
       "     2⋅Tᵣ    3⋅Tᵣ    ╲╱ Tᵣ         2⋅T    3⋅T        ⎠"
      ]
     },
     "execution_count": 71,
     "metadata": {},
     "output_type": "execute_result"
    }
   ],
   "source": [
    "-T*integral_Cp_T"
   ]
  },
  {
   "cell_type": "code",
   "execution_count": 69,
   "metadata": {},
   "outputs": [],
   "source": [
    "integral_Cp   = sp.integrate(Cp,(T,Tr,T))"
   ]
  },
  {
   "cell_type": "code",
   "execution_count": 75,
   "metadata": {},
   "outputs": [],
   "source": [
    "integral_Cp_T = sp.integrate(Cp_T,(T,Tr,T))"
   ]
  },
  {
   "cell_type": "code",
   "execution_count": 54,
   "metadata": {},
   "outputs": [],
   "source": [
    "Cp = c_1 +c_2*T +c_3/T**2 + c_4*T**2 + c_5/sp.sqrt(T) + c_6/T + c_7/T**3 + c_8*T**3"
   ]
  },
  {
   "cell_type": "code",
   "execution_count": null,
   "metadata": {},
   "outputs": [],
   "source": []
  },
  {
   "cell_type": "code",
   "execution_count": 76,
   "metadata": {},
   "outputs": [
    {
     "data": {
      "image/png": "[encoded data removed]",
      "text/latex": [
       "$$-72652.4047443836$$"
      ],
      "text/plain": [
       "-72652.4047443836"
      ]
     },
     "execution_count": 76,
     "metadata": {},
     "output_type": "execute_result"
    }
   ],
   "source": [
    "Holland = -T*integral_Cp_T + integral_Cp\n",
    "Holland.subs({Tr:298.15,c_1:233.3, c_2:.1494E-2, c_3:-603800, c_4:0, c_5:-1869.7, c_6:0, c_7:0, c_8:0,T:1000}).evalf()"
   ]
  },
  {
   "cell_type": "code",
   "execution_count": 79,
   "metadata": {},
   "outputs": [
    {
     "data": {
      "image/png": "[encoded data removed]",
      "text/latex": [
       "$$-139398.3397443836$$"
      ],
      "text/plain": [
       "-139398.3397443836"
      ]
     },
     "execution_count": 79,
     "metadata": {},
     "output_type": "execute_result"
    }
   ],
   "source": [
    "-72652.4047443836-95.1*(1000-298.15)"
   ]
  },
  {
   "cell_type": "markdown",
   "metadata": {},
   "source": [
    "The numerical difference between the HP and the Perplex expression is $S(T-T_r)$"
   ]
  },
  {
   "cell_type": "markdown",
   "metadata": {},
   "source": [
    "## Volume integral"
   ]
  },
  {
   "cell_type": "markdown",
   "metadata": {},
   "source": [
    "Isothermal compressibility\n",
    "$$ \\beta = -v\\left(\\frac{\\partial P}{\\partial v} \\right)_T$$\n",
    "Isobaric expansivity\n",
    "$$ \\alpha = \\frac{1}{v}\\left(\\frac{\\partial v}{\\partial T} \\right)_P$$"
   ]
  },
  {
   "cell_type": "markdown",
   "metadata": {},
   "source": [
    "### Assuming that elastic properties constant"
   ]
  },
  {
   "cell_type": "markdown",
   "metadata": {},
   "source": [
    "Isobaric expansivity at 1 bar"
   ]
  },
  {
   "cell_type": "markdown",
   "metadata": {},
   "source": [
    "$$ \\alpha dT = \\frac{dv}{v} $$\n",
    "$$ \\int_{1,T_r}^{1,T} \\alpha dT = \\int_{V(1,T_r)}^{V(1,T)} \\frac{dv}{v}$$"
   ]
  },
  {
   "cell_type": "code",
   "execution_count": 23,
   "metadata": {},
   "outputs": [
    {
     "data": {
      "image/png": "[encoded data removed]",
      "text/latex": [
       "$$T \\alpha - T_{r} \\alpha$$"
      ],
      "text/plain": [
       "T⋅α - Tᵣ⋅α"
      ]
     },
     "execution_count": 23,
     "metadata": {},
     "output_type": "execute_result"
    }
   ],
   "source": [
    "alpha,T,Tr,v,v_0 = sp.symbols(\"alpha, T, T_r, v, v_0\")\n",
    "sp.integrate(alpha,(T,Tr,T))"
   ]
  },
  {
   "cell_type": "code",
   "execution_count": 24,
   "metadata": {},
   "outputs": [
    {
     "data": {
      "image/png": "[encoded data removed]",
      "text/latex": [
       "$$\\log{\\left (v \\right )} - \\log{\\left (v_{0} \\right )}$$"
      ],
      "text/plain": [
       "log(v) - log(v₀)"
      ]
     },
     "execution_count": 24,
     "metadata": {},
     "output_type": "execute_result"
    }
   ],
   "source": [
    "sp.integrate(1/v,(v,v_0,v))"
   ]
  },
  {
   "cell_type": "markdown",
   "metadata": {},
   "source": [
    "where $ v_0 = v(1,T_r)$, 1 bar and 298.15 K"
   ]
  },
  {
   "cell_type": "markdown",
   "metadata": {},
   "source": [
    "Collect to define the equation"
   ]
  },
  {
   "cell_type": "code",
   "execution_count": 25,
   "metadata": {},
   "outputs": [
    {
     "data": {
      "image/png": "[encoded data removed]",
      "text/latex": [
       "$$T \\alpha - T_{r} \\alpha = \\log{\\left (v \\right )} - \\log{\\left (v_{0} \\right )}$$"
      ],
      "text/plain": [
       "T⋅α - Tᵣ⋅α = log(v) - log(v₀)"
      ]
     },
     "metadata": {},
     "output_type": "display_data"
    }
   ],
   "source": [
    "myfunction = sp.Eq(sp.integrate(alpha,(T,Tr,T)),sp.integrate(1/v,(v,v_0,v)))\n",
    "display(myfunction)"
   ]
  },
  {
   "cell_type": "markdown",
   "metadata": {},
   "source": [
    "Then at constant 1 bar pressure $Pr = 1$, the volume at a given temperature $v(1,T)$ is given as"
   ]
  },
  {
   "cell_type": "code",
   "execution_count": 28,
   "metadata": {},
   "outputs": [
    {
     "data": {
      "image/png": "[encoded data removed]",
      "text/latex": [
       "$$\\left [ v_{0} e^{\\alpha \\left(T - T_{r}\\right)}\\right ]$$"
      ],
      "text/plain": [
       "⎡    α⋅(T - Tᵣ)⎤\n",
       "⎣v₀⋅ℯ          ⎦"
      ]
     },
     "execution_count": 28,
     "metadata": {},
     "output_type": "execute_result"
    }
   ],
   "source": [
    "sp.solve(myfunction,v)"
   ]
  },
  {
   "cell_type": "markdown",
   "metadata": {},
   "source": [
    "Isothermoal compressibility at constant elevated temperature $T$ "
   ]
  },
  {
   "cell_type": "markdown",
   "metadata": {},
   "source": [
    "$$ -\\beta dP = \\frac{dv}{v} $$\n",
    "$$ \\int_{P_r,T}^{P,T} \\beta dP = \\int_{V(P_r,T)}^{V(P_r,T)} \\frac{dv}{v}$$"
   ]
  },
  {
   "cell_type": "code",
   "execution_count": 17,
   "metadata": {},
   "outputs": [
    {
     "data": {
      "image/png": "[encoded data removed]",
      "text/latex": [
       "$$- P \\beta + P_{r} \\beta$$"
      ],
      "text/plain": [
       "-P⋅β + Pᵣ⋅β"
      ]
     },
     "execution_count": 17,
     "metadata": {},
     "output_type": "execute_result"
    }
   ],
   "source": [
    "beta,P,Pr,v,v_T = sp.symbols(\"beta, P, P_r, v, v_T\")\n",
    "sp.integrate(-kappa,(P,Pr,P))"
   ]
  },
  {
   "cell_type": "code",
   "execution_count": 18,
   "metadata": {},
   "outputs": [
    {
     "data": {
      "image/png": "[encoded data removed]",
      "text/latex": [
       "$$- P \\beta + P_{r} \\beta = \\log{\\left (v \\right )} - \\log{\\left (v_{T} \\right )}$$"
      ],
      "text/plain": [
       "-P⋅β + Pᵣ⋅β = log(v) - log(v_T)"
      ]
     },
     "metadata": {},
     "output_type": "display_data"
    }
   ],
   "source": [
    "myfunction2 = sp.Eq(sp.integrate(-beta,(P,Pr,P)),sp.integrate(1/v,(v,v_T,v)))\n",
    "display(myfunction2)"
   ]
  },
  {
   "cell_type": "code",
   "execution_count": 29,
   "metadata": {},
   "outputs": [
    {
     "data": {
      "image/png": "[encoded data removed]",
      "text/latex": [
       "$$\\left [ v_{T} e^{\\beta \\left(- P + P_{r}\\right)}\\right ]$$"
      ],
      "text/plain": [
       "⎡     β⋅(-P + Pᵣ)⎤\n",
       "⎣v_T⋅ℯ           ⎦"
      ]
     },
     "metadata": {},
     "output_type": "display_data"
    }
   ],
   "source": [
    "v_P_T = sp.solve(myfunction2,v)\n",
    "display(v_P_T)"
   ]
  },
  {
   "cell_type": "markdown",
   "metadata": {},
   "source": [
    "where $v_T$ is the volume at $T$ and $P_r=1$"
   ]
  },
  {
   "cell_type": "code",
   "execution_count": null,
   "metadata": {},
   "outputs": [],
   "source": []
  },
  {
   "cell_type": "markdown",
   "metadata": {},
   "source": [
    "Not working the direct substitution of VT for V(1,T). So it is substituted manually"
   ]
  },
  {
   "cell_type": "code",
   "execution_count": 30,
   "metadata": {},
   "outputs": [
    {
     "data": {
      "image/png": "[encoded data removed]",
      "text/latex": [
       "$$v_{0} e^{\\alpha \\left(T - T_{r}\\right) - \\beta \\left(P - P_{r}\\right)}$$"
      ],
      "text/plain": [
       "    α⋅(T - Tᵣ) - β⋅(P - Pᵣ)\n",
       "v₀⋅ℯ                       "
      ]
     },
     "metadata": {},
     "output_type": "display_data"
    }
   ],
   "source": [
    "v = sp.simplify(v_0*sp.exp(alpha*(T - Tr))*sp.exp(kappa*(-P + Pr)))\n",
    "display(v)"
   ]
  },
  {
   "cell_type": "code",
   "execution_count": 31,
   "metadata": {},
   "outputs": [
    {
     "name": "stdout",
     "output_type": "stream",
     "text": [
      "v_0*exp(alpha*(T - T_r) - beta*(P - P_r))\n"
     ]
    }
   ],
   "source": [
    "print(v)"
   ]
  },
  {
   "cell_type": "markdown",
   "metadata": {},
   "source": [
    "Volume not using the alpha approximation"
   ]
  },
  {
   "cell_type": "code",
   "execution_count": 32,
   "metadata": {},
   "outputs": [
    {
     "data": {
      "image/png": "[encoded data removed]",
      "text/latex": [
       "$$4.47647373050455$$"
      ],
      "text/plain": [
       "4.47647373050455"
      ]
     },
     "execution_count": 32,
     "metadata": {},
     "output_type": "execute_result"
    }
   ],
   "source": [
    "(v_0*sp.exp(alpha*(T - Tr))*sp.exp(beta*(-P + Pr))).subs({Pr : 1, Tr : 298.15, alpha: 16E-5/4.366, beta : 3.2E-6/4.366, v_0 : 4.366, P: 1000, T: 1000})"
   ]
  },
  {
   "cell_type": "markdown",
   "metadata": {},
   "source": [
    "More commonly the approximation of $exp(x)=1+x$, when $x$ is very small is used. Then the v(P,T)"
   ]
  },
  {
   "cell_type": "code",
   "execution_count": 33,
   "metadata": {},
   "outputs": [
    {
     "data": {
      "image/png": "[encoded data removed]",
      "text/latex": [
       "$$v_{0} \\left(\\alpha \\left(T - T_{r}\\right) - \\beta \\left(P - P_{r}\\right) + 1\\right)$$"
      ],
      "text/plain": [
       "v₀⋅(α⋅(T - Tᵣ) - β⋅(P - Pᵣ) + 1)"
      ]
     },
     "metadata": {},
     "output_type": "display_data"
    }
   ],
   "source": [
    "v_PT = v_0*(1+alpha*(T - Tr) - beta*(P - Pr))\n",
    "display(v_PT)"
   ]
  },
  {
   "cell_type": "code",
   "execution_count": 108,
   "metadata": {},
   "outputs": [
    {
     "data": {
      "image/png": "[encoded data removed]",
      "text/latex": [
       "$$8e-07$$"
      ],
      "text/plain": [
       "8e-07"
      ]
     },
     "execution_count": 108,
     "metadata": {},
     "output_type": "execute_result"
    }
   ],
   "source": [
    "1/1250000"
   ]
  },
  {
   "cell_type": "code",
   "execution_count": 34,
   "metadata": {},
   "outputs": [
    {
     "data": {
      "image/png": "[encoded data removed]",
      "text/latex": [
       "$$4.4750992$$"
      ],
      "text/plain": [
       "4.47509920000000"
      ]
     },
     "execution_count": 34,
     "metadata": {},
     "output_type": "execute_result"
    }
   ],
   "source": [
    "v_PT.subs({Pr : 1, Tr : 298.15, alpha: 16E-5/4.366, beta : 3.2E-6/4.366, v_0 : 4.366, P: 1000, T: 1000})"
   ]
  },
  {
   "cell_type": "code",
   "execution_count": null,
   "metadata": {},
   "outputs": [],
   "source": []
  },
  {
   "cell_type": "markdown",
   "metadata": {},
   "source": [
    "### PerpleX EoS = 1"
   ]
  },
  {
   "cell_type": "markdown",
   "metadata": {},
   "source": [
    "In perplex the simplest EoS is the one previously detailed. Where $b_2 = v_0\\alpha$ and $b_4 = v_0\\kappa$\n",
    "$$ v(T,P) = v_0 + b_2(T-T_r) + b_4(P-Pr)$$"
   ]
  },
  {
   "cell_type": "markdown",
   "metadata": {},
   "source": [
    "For forsterite, $\\alpha = 36.6 x 10^{-6} K^{-1}$, $v_0 = 4.366 J/bar$ and $\\beta = 0.7 x 10^{-7} bar^{-1}$, therefore,"
   ]
  },
  {
   "cell_type": "code",
   "execution_count": 35,
   "metadata": {},
   "outputs": [
    {
     "data": {
      "image/png": "[encoded data removed]",
      "text/latex": [
       "$$0.00016$$"
      ],
      "text/plain": [
       "0.00016"
      ]
     },
     "metadata": {},
     "output_type": "display_data"
    },
    {
     "data": {
      "image/png": "[encoded data removed]",
      "text/latex": [
       "$$-3.2e-06$$"
      ],
      "text/plain": [
       "-3.2e-06"
      ]
     },
     "metadata": {},
     "output_type": "display_data"
    }
   ],
   "source": [
    "b2 = 4.366*(16E-5/4.366)\n",
    "display(b2)\n",
    "b4 = -4.366*(3.2E-6/4.366)\n",
    "display(b4)"
   ]
  },
  {
   "cell_type": "code",
   "execution_count": 36,
   "metadata": {},
   "outputs": [],
   "source": [
    "def v(P,T):\n",
    "    return 4.366 + b2*(T-298.15)+b4*(P-1)\n"
   ]
  },
  {
   "cell_type": "code",
   "execution_count": 37,
   "metadata": {},
   "outputs": [
    {
     "data": {
      "image/png": "[encoded data removed]",
      "text/latex": [
       "$$4.475099199999999$$"
      ],
      "text/plain": [
       "4.475099199999999"
      ]
     },
     "execution_count": 37,
     "metadata": {},
     "output_type": "execute_result"
    }
   ],
   "source": [
    "v(1000,1000)"
   ]
  },
  {
   "cell_type": "markdown",
   "metadata": {},
   "source": [
    "Check with frendly and hp93ver.dat volume (J/mol/bar)= 4.474875 "
   ]
  },
  {
   "cell_type": "markdown",
   "metadata": {},
   "source": [
    "### Integral"
   ]
  },
  {
   "cell_type": "code",
   "execution_count": 176,
   "metadata": {},
   "outputs": [],
   "source": [
    "Volume_integral = sp.integrate(v_PT,(P,1,P))"
   ]
  },
  {
   "cell_type": "code",
   "execution_count": 180,
   "metadata": {},
   "outputs": [
    {
     "data": {
      "image/png": "[encoded data removed]",
      "text/latex": [
       "$$4472.2209024$$"
      ],
      "text/plain": [
       "4472.22090240000"
      ]
     },
     "execution_count": 180,
     "metadata": {},
     "output_type": "execute_result"
    }
   ],
   "source": [
    "Volume_integral.subs({Pr : 1, Tr : 298.15, alpha: 16E-5/4.366, kappa : 3.2E-6/4.366, v_0 : 4.366, P: 1000, T: 1000})"
   ]
  },
  {
   "cell_type": "markdown",
   "metadata": {},
   "source": [
    "units in J. "
   ]
  },
  {
   "cell_type": "code",
   "execution_count": 186,
   "metadata": {},
   "outputs": [
    {
     "data": {
      "image/png": "[encoded data removed]",
      "text/latex": [
       "$$G(Pr, T) = -2190986.48974438$$"
      ],
      "text/plain": [
       "G(Pr, T) = -2190986.48974438"
      ]
     },
     "execution_count": 186,
     "metadata": {},
     "output_type": "execute_result"
    }
   ],
   "source": [
    "sp.Eq(G_Pr_T,g(-2052290,94.1,1000).evalf())"
   ]
  },
  {
   "cell_type": "code",
   "execution_count": 185,
   "metadata": {},
   "outputs": [
    {
     "data": {
      "image/png": "[encoded data removed]",
      "text/latex": [
       "$$-2186514.26884198$$"
      ],
      "text/plain": [
       "-2186514.26884198"
      ]
     },
     "execution_count": 185,
     "metadata": {},
     "output_type": "execute_result"
    }
   ],
   "source": [
    "g(-2052290,94.1,1000).evalf()+Volume_integral.subs({Pr : 1, Tr : 298.15, alpha: 16E-5/4.366, kappa : 3.2E-6/4.366, v_0 : 4.366, P: 1000, T: 1000})"
   ]
  },
  {
   "cell_type": "markdown",
   "metadata": {},
   "source": [
    "# Apparent Gibbs energy at P and T"
   ]
  },
  {
   "cell_type": "markdown",
   "metadata": {},
   "source": [
    "Evaluated at 1000 bar and 1000 K."
   ]
  },
  {
   "cell_type": "code",
   "execution_count": 189,
   "metadata": {},
   "outputs": [
    {
     "data": {
      "image/png": "[encoded data removed]",
      "text/latex": [
       "$$-2186514.26884198$$"
      ],
      "text/plain": [
       "-2186514.26884198"
      ]
     },
     "execution_count": 189,
     "metadata": {},
     "output_type": "execute_result"
    }
   ],
   "source": [
    "g(-2052290,94.1,1000).evalf()+Volume_integral.subs({Pr : 1, Tr : 298.15, alpha: 16E-5/4.366, kappa : 3.2E-6/4.366, v_0 : 4.366, P: 1000, T: 1000})"
   ]
  },
  {
   "cell_type": "code",
   "execution_count": 1,
   "metadata": {},
   "outputs": [
    {
     "ename": "NameError",
     "evalue": "name 'P' is not defined",
     "output_type": "error",
     "traceback": [
      "\u001b[0;31m---------------------------------------------------------------------------\u001b[0m",
      "\u001b[0;31mNameError\u001b[0m                                 Traceback (most recent call last)",
      "\u001b[0;32m<ipython-input-1-c7e47e11af57>\u001b[0m in \u001b[0;36m<module>\u001b[0;34m()\u001b[0m\n\u001b[0;32m----> 1\u001b[0;31m \u001b[0mP\u001b[0m\u001b[0;34m\u001b[0m\u001b[0m\n\u001b[0m",
      "\u001b[0;31mNameError\u001b[0m: name 'P' is not defined"
     ]
    }
   ],
   "source": [
    "P"
   ]
  },
  {
   "cell_type": "code",
   "execution_count": 38,
   "metadata": {},
   "outputs": [
    {
     "data": {
      "image/png": "[encoded data removed]",
      "text/latex": [
       "$$-2024783.935$$"
      ],
      "text/plain": [
       "-2024783.935"
      ]
     },
     "execution_count": 38,
     "metadata": {},
     "output_type": "execute_result"
    }
   ],
   "source": [
    "-2053138+298.15*95.1"
   ]
  },
  {
   "cell_type": "code",
   "execution_count": 39,
   "metadata": {},
   "outputs": [
    {
     "data": {
      "image/png": "[encoded data removed]",
      "text/latex": [
       "$$7.919468508629449e-07$$"
      ],
      "text/plain": [
       "7.919468508629449e-07"
      ]
     },
     "execution_count": 39,
     "metadata": {},
     "output_type": "execute_result"
    }
   ],
   "source": [
    "1/1262711"
   ]
  },
  {
   "cell_type": "code",
   "execution_count": 41,
   "metadata": {},
   "outputs": [
    {
     "data": {
      "image/png": "[encoded data removed]",
      "text/latex": [
       "$$1251191.4470554586$$"
      ],
      "text/plain": [
       "1251191.4470554586"
      ]
     },
     "execution_count": 41,
     "metadata": {},
     "output_type": "execute_result"
    }
   ],
   "source": [
    "1/0.7992382E-06"
   ]
  },
  {
   "cell_type": "markdown",
   "metadata": {},
   "source": [
    "reference gibbs = Holland and Powell 02 (entropy of formation) Table 2 of Bermann but not main equation. Example of olivine"
   ]
  },
  {
   "cell_type": "code",
   "execution_count": 82,
   "metadata": {},
   "outputs": [
    {
     "data": {
      "image/png": "[encoded data removed]",
      "text/latex": [
       "$$-2053169.0271$$"
      ],
      "text/plain": [
       "-2053169.0271"
      ]
     },
     "execution_count": 82,
     "metadata": {},
     "output_type": "execute_result"
    }
   ],
   "source": [
    "-2172240-298.15*(95.1-2*32.68-1*18.83-2*205.138)"
   ]
  },
  {
   "cell_type": "markdown",
   "metadata": {},
   "source": [
    "reference gibbs = Holland and Powell 11 (third law entropy)"
   ]
  },
  {
   "cell_type": "code",
   "execution_count": 83,
   "metadata": {},
   "outputs": [
    {
     "data": {
      "image/png": "[encoded data removed]",
      "text/latex": [
       "$$-2200914.065$$"
      ],
      "text/plain": [
       "-2200914.065"
      ]
     },
     "execution_count": 83,
     "metadata": {},
     "output_type": "execute_result"
    }
   ],
   "source": [
    "-2172560-298.15*(95.1)"
   ]
  },
  {
   "cell_type": "markdown",
   "metadata": {},
   "source": [
    "Then Bermann definition is like hp02?"
   ]
  },
  {
   "cell_type": "code",
   "execution_count": null,
   "metadata": {},
   "outputs": [],
   "source": [
    "def G_berman(Hf,S,T):\n",
    "    return H"
   ]
  }
 ],
 "metadata": {
  "kernelspec": {
   "display_name": "Python 3",
   "language": "python",
   "name": "python3"
  },
  "language_info": {
   "codemirror_mode": {
    "name": "ipython",
    "version": 3
   },
   "file_extension": ".py",
   "mimetype": "text/x-python",
   "name": "python",
   "nbconvert_exporter": "python",
   "pygments_lexer": "ipython3",
   "version": "3.7.4"
  }
 },
 "nbformat": 4,
 "nbformat_minor": 2
}
