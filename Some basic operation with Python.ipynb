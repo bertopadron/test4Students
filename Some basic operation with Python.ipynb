{
 "cells": [
  {
   "cell_type": "markdown",
   "metadata": {},
   "source": [
    "# Learning Python's basics"
   ]
  },
  {
   "cell_type": "markdown",
   "metadata": {},
   "source": [
    "It is assumed that you are using Jupyter notebook but these notes also apply with some minor modifications to standard Python. First thing to do is to import the packages we are going to used (numpy numerical python and sympy symbolic python). An then clic the buttom run."
   ]
  },
  {
   "cell_type": "code",
   "execution_count": 2,
   "metadata": {},
   "outputs": [],
   "source": [
    "import numpy as np\n",
    "import sympy as sp"
   ]
  },
  {
   "cell_type": "markdown",
   "metadata": {},
   "source": [
    "To make nice equations (Latex). You can use also this (only for Jupyter)"
   ]
  },
  {
   "cell_type": "code",
   "execution_count": 3,
   "metadata": {},
   "outputs": [],
   "source": [
    "from sympy.interactive import printing\n",
    "printing.init_printing(use_latex = True)"
   ]
  },
  {
   "cell_type": "markdown",
   "metadata": {},
   "source": [
    "## Monday exercises"
   ]
  },
  {
   "cell_type": "markdown",
   "metadata": {},
   "source": [
    "Here the exercises we did on Monday that involve to solve an equation and to give a numerical value for it."
   ]
  },
  {
   "cell_type": "markdown",
   "metadata": {},
   "source": [
    "You need first to define the symbolic variables using sp.symbols."
   ]
  },
  {
   "cell_type": "code",
   "execution_count": 5,
   "metadata": {},
   "outputs": [],
   "source": [
    "V,P,T,nR = sp.symbols('V,P,T,nR')"
   ]
  },
  {
   "cell_type": "markdown",
   "metadata": {},
   "source": [
    "### Write an equation (Method 1)"
   ]
  },
  {
   "cell_type": "markdown",
   "metadata": {},
   "source": [
    "You might express the function to solve in the following way $f(x)=0$. So if we want to solve the perfect gas equation $PV = nRT$, this needs to be expressed as $f(P,T,V,n)=PV-nRT=0$ "
   ]
  },
  {
   "cell_type": "code",
   "execution_count": 6,
   "metadata": {},
   "outputs": [
    {
     "data": {
      "image/png": "[encoded data removed]",
      "text/latex": [
       "$$P V - T nR$$"
      ],
      "text/plain": [
       "P⋅V - T⋅nR"
      ]
     },
     "metadata": {},
     "output_type": "display_data"
    }
   ],
   "source": [
    "myfunction = P*V-nR*T\n",
    "display(myfunction)"
   ]
  },
  {
   "cell_type": "markdown",
   "metadata": {},
   "source": [
    "Now you can solve this equation for temperature $T$ by using sp.solve. Note that the solution is given as a list in squared brackets."
   ]
  },
  {
   "cell_type": "code",
   "execution_count": 7,
   "metadata": {},
   "outputs": [
    {
     "data": {
      "image/png": "[encoded data removed]",
      "text/latex": [
       "$$\\left [ \\frac{P V}{nR}\\right ]$$"
      ],
      "text/plain": [
       "⎡P⋅V⎤\n",
       "⎢───⎥\n",
       "⎣ nR⎦"
      ]
     },
     "metadata": {},
     "output_type": "display_data"
    }
   ],
   "source": [
    "myfunction_solved = sp.solve(myfunction,T)\n",
    "display(myfunction_solved)"
   ]
  },
  {
   "cell_type": "markdown",
   "metadata": {},
   "source": [
    "### Another way to write an equations (Method 2)"
   ]
  },
  {
   "cell_type": "markdown",
   "metadata": {},
   "source": [
    "Another way is to define an equation such as $PV = nRT$ directly using sp.Eq just splitting left and right hand sides by a comma."
   ]
  },
  {
   "cell_type": "code",
   "execution_count": 8,
   "metadata": {},
   "outputs": [
    {
     "data": {
      "image/png": "[encoded data removed]",
      "text/latex": [
       "$$P V = T nR$$"
      ],
      "text/plain": [
       "P⋅V = T⋅nR"
      ]
     },
     "metadata": {},
     "output_type": "display_data"
    }
   ],
   "source": [
    "myfunction = sp.Eq(P*V,nR*T)\n",
    "display(myfunction)"
   ]
  },
  {
   "cell_type": "markdown",
   "metadata": {},
   "source": [
    "Now you can solve this equation by using sp.solve"
   ]
  },
  {
   "cell_type": "code",
   "execution_count": 9,
   "metadata": {
    "scrolled": true
   },
   "outputs": [
    {
     "data": {
      "image/png": "[encoded data removed]",
      "text/latex": [
       "$$\\left [ \\frac{P V}{nR}\\right ]$$"
      ],
      "text/plain": [
       "⎡P⋅V⎤\n",
       "⎢───⎥\n",
       "⎣ nR⎦"
      ]
     },
     "metadata": {},
     "output_type": "display_data"
    }
   ],
   "source": [
    "myfunction_solved = sp.solve(myfunction,T)\n",
    "display(myfunction_solved)\n"
   ]
  },
  {
   "cell_type": "markdown",
   "metadata": {},
   "source": [
    "### Evaluate the function (find a numerical value of the function)"
   ]
  },
  {
   "cell_type": "markdown",
   "metadata": {},
   "source": [
    "Once you have solved an equation for $T$ you migth be interested in evaluating the function for a given values of $P$, $V$ and $nR$. <br> Curiosly, in Python the elements of a row or vector are counted from 0 (in Matlab are counted from 1). So to call the first element of the solutions for an equation you need to type myfunction_solved[0]"
   ]
  },
  {
   "cell_type": "code",
   "execution_count": 10,
   "metadata": {},
   "outputs": [
    {
     "data": {
      "image/png": "[encoded data removed]",
      "text/latex": [
       "$$\\frac{P V}{nR}$$"
      ],
      "text/plain": [
       "P⋅V\n",
       "───\n",
       " nR"
      ]
     },
     "execution_count": 10,
     "metadata": {},
     "output_type": "execute_result"
    }
   ],
   "source": [
    "myfunction_solved[0]"
   ]
  },
  {
   "cell_type": "markdown",
   "metadata": {},
   "source": [
    "Remember that this is equal to T"
   ]
  },
  {
   "cell_type": "code",
   "execution_count": 11,
   "metadata": {},
   "outputs": [
    {
     "name": "stdout",
     "output_type": "stream",
     "text": [
      "T = P*V/nR\n"
     ]
    }
   ],
   "source": [
    "print('T =', myfunction_solved[0])"
   ]
  },
  {
   "cell_type": "markdown",
   "metadata": {},
   "source": [
    "Now you can substitute the values of P = 1, V = 1 and nR = 1"
   ]
  },
  {
   "cell_type": "code",
   "execution_count": 12,
   "metadata": {},
   "outputs": [
    {
     "data": {
      "image/png": "[encoded data removed]",
      "text/latex": [
       "$$1$$"
      ],
      "text/plain": [
       "1"
      ]
     },
     "execution_count": 12,
     "metadata": {},
     "output_type": "execute_result"
    }
   ],
   "source": [
    "myfunction_solved[0].subs({P:1,V:1,nR:1})"
   ]
  },
  {
   "cell_type": "markdown",
   "metadata": {},
   "source": [
    "Remember that this is equal to T"
   ]
  },
  {
   "cell_type": "code",
   "execution_count": 13,
   "metadata": {},
   "outputs": [
    {
     "name": "stdout",
     "output_type": "stream",
     "text": [
      "T = 1\n"
     ]
    }
   ],
   "source": [
    "print('T =', myfunction_solved[0].subs({P:1,V:1,nR:1}))"
   ]
  },
  {
   "cell_type": "markdown",
   "metadata": {},
   "source": [
    "### Define a function (Method 3)"
   ]
  },
  {
   "cell_type": "markdown",
   "metadata": {},
   "source": [
    "A quite direct way to define a function is to use def to define an expression in this case is $T$ being a function of $P$, $V$ and $nR$, i.e. $T(P,V,nR) = \\frac{PV}{nR}$, then you can get $T$ by evaluating the function at $P$, $V$ and $nR$, for instance at $T(1,1,1)$"
   ]
  },
  {
   "cell_type": "code",
   "execution_count": 18,
   "metadata": {},
   "outputs": [
    {
     "data": {
      "image/png": "[encoded data removed]",
      "text/latex": [
       "$$1.0$$"
      ],
      "text/plain": [
       "1.0"
      ]
     },
     "execution_count": 18,
     "metadata": {},
     "output_type": "execute_result"
    }
   ],
   "source": [
    " def temperature(P,V,nR):\n",
    "    return (P*V)/nR\n",
    "\n",
    "temperature(1,1,1)"
   ]
  },
  {
   "cell_type": "markdown",
   "metadata": {},
   "source": [
    "# Plot a function"
   ]
  },
  {
   "cell_type": "markdown",
   "metadata": {},
   "source": [
    "Plot the following equation $f(x)=2x^2$ from $-100<x<100$"
   ]
  },
  {
   "cell_type": "code",
   "execution_count": 4,
   "metadata": {},
   "outputs": [
    {
     "data": {
      "image/png": "[encoded data removed]",
      "text/plain": [
       "<Figure size 432x288 with 1 Axes>"
      ]
     },
     "metadata": {},
     "output_type": "display_data"
    }
   ],
   "source": [
    "import matplotlib.pyplot as plt\n",
    "\n",
    "# create a list of x evenly spaced between -100 to 100 with a resolution of 1\n",
    "x = np.arange(-100, 100, 1)\n",
    "f = 2*x**2\n",
    "plt.plot(x, f)\n",
    "plt.axis([-100, 100, 0, 20000]) # axes range (optional)\n",
    "plt.show()"
   ]
  },
  {
   "cell_type": "markdown",
   "metadata": {},
   "source": [
    "# Derivative of a function"
   ]
  },
  {
   "cell_type": "markdown",
   "metadata": {},
   "source": [
    "Derivate the following function $f(x)=\\frac{2x^3}{3}$"
   ]
  },
  {
   "cell_type": "code",
   "execution_count": 5,
   "metadata": {},
   "outputs": [
    {
     "data": {
      "image/png": "[encoded data removed]",
      "text/latex": [
       "$$2 x^{2}$$"
      ],
      "text/plain": [
       "   2\n",
       "2⋅x "
      ]
     },
     "execution_count": 5,
     "metadata": {},
     "output_type": "execute_result"
    }
   ],
   "source": [
    "x = sp.Symbol('x')\n",
    "sp.diff(2*x**3/3,x)"
   ]
  },
  {
   "cell_type": "markdown",
   "metadata": {},
   "source": [
    "# Integrate a function (symbolic/analytical)"
   ]
  },
  {
   "cell_type": "markdown",
   "metadata": {},
   "source": [
    "Integrate the following function $f(x)=2x^2$"
   ]
  },
  {
   "cell_type": "code",
   "execution_count": 44,
   "metadata": {},
   "outputs": [],
   "source": [
    "x = sp.Symbol('x')\n",
    "z = sp.integrate(2*x**2,x)"
   ]
  },
  {
   "cell_type": "markdown",
   "metadata": {},
   "source": [
    "Definite inegral: integrate over an interval $\\int_1^2 2x^2 dx$"
   ]
  },
  {
   "cell_type": "code",
   "execution_count": 22,
   "metadata": {},
   "outputs": [
    {
     "data": {
      "image/png": "[encoded data removed]",
      "text/latex": [
       "$$\\frac{14}{3}$$"
      ],
      "text/plain": [
       "14/3"
      ]
     },
     "execution_count": 22,
     "metadata": {},
     "output_type": "execute_result"
    }
   ],
   "source": [
    "sp.integrate(2*x**2,(x,1,2))"
   ]
  },
  {
   "cell_type": "markdown",
   "metadata": {},
   "source": [
    "As you might notice the above answer is symbolic. If you need a numeric value, then add evalf()"
   ]
  },
  {
   "cell_type": "code",
   "execution_count": 23,
   "metadata": {},
   "outputs": [
    {
     "data": {
      "image/png": "[encoded data removed]",
      "text/latex": [
       "$$4.66666666666667$$"
      ],
      "text/plain": [
       "4.66666666666667"
      ]
     },
     "execution_count": 23,
     "metadata": {},
     "output_type": "execute_result"
    }
   ],
   "source": [
    "sp.integrate(2*x**2,(x,1,2)).evalf()"
   ]
  },
  {
   "cell_type": "markdown",
   "metadata": {},
   "source": [
    "# Definite numerical integration "
   ]
  },
  {
   "cell_type": "markdown",
   "metadata": {},
   "source": [
    "Numerical integration of the function $f(x)=2x^2$ using quadrature (quad) and the library scipy. Note that the second value of the answer is the error of the numerical integration"
   ]
  },
  {
   "cell_type": "code",
   "execution_count": 20,
   "metadata": {},
   "outputs": [
    {
     "data": {
      "image/png": "[encoded data removed]",
      "text/latex": [
       "$$\\left ( 4.666666666666667, \\quad 5.181040781584064e-14\\right )$$"
      ],
      "text/plain": [
       "(4.666666666666667, 5.181040781584064e-14)"
      ]
     },
     "execution_count": 20,
     "metadata": {},
     "output_type": "execute_result"
    }
   ],
   "source": [
    "from scipy.integrate import quad  \n",
    "def f(x):\n",
    "    return 2*x**2\n",
    "\n",
    "quad(f,1,2)\n"
   ]
  },
  {
   "cell_type": "markdown",
   "metadata": {},
   "source": [
    "# Solving a system of equations"
   ]
  },
  {
   "cell_type": "markdown",
   "metadata": {},
   "source": [
    "You can do this using either numpy or sympy. In this example we use sympy. <br>\n",
    "Solve the following linear set of equations $$ 2x + 3y = 8 $$ <br> $$x + 2y + z = 8$$ <br> $$3y + 2z = 12$$"
   ]
  },
  {
   "cell_type": "code",
   "execution_count": 34,
   "metadata": {},
   "outputs": [
    {
     "data": {
      "image/png": "[encoded data removed]",
      "text/latex": [
       "$$\\left[\\begin{matrix}2 & 3 & 0 & 8\\\\1 & 2 & 1 & 8\\\\0 & 3 & 2 & 12\\end{matrix}\\right]$$"
      ],
      "text/plain": [
       "⎡2  3  0  8 ⎤\n",
       "⎢           ⎥\n",
       "⎢1  2  1  8 ⎥\n",
       "⎢           ⎥\n",
       "⎣0  3  2  12⎦"
      ]
     },
     "metadata": {},
     "output_type": "display_data"
    },
    {
     "data": {
      "image/png": "[encoded data removed]",
      "text/latex": [
       "$$\\left \\{ x : 1, \\quad y : 2, \\quad z : 3\\right \\}$$"
      ],
      "text/plain": [
       "{x: 1, y: 2, z: 3}"
      ]
     },
     "execution_count": 34,
     "metadata": {},
     "output_type": "execute_result"
    }
   ],
   "source": [
    "x, y, z = sp.symbols('x, y, z')\n",
    "system = sp.Matrix(([2, 3, 0, 8],[1, 2, 1, 8],[0, 3, 2, 12]))\n",
    "display(system)\n",
    "sp.solve_linear_system(system,x,y,z)"
   ]
  },
  {
   "cell_type": "code",
   "execution_count": null,
   "metadata": {},
   "outputs": [],
   "source": []
  }
 ],
 "metadata": {
  "kernelspec": {
   "display_name": "Python 3",
   "language": "python",
   "name": "python3"
  },
  "language_info": {
   "codemirror_mode": {
    "name": "ipython",
    "version": 3
   },
   "file_extension": ".py",
   "mimetype": "text/x-python",
   "name": "python",
   "nbconvert_exporter": "python",
   "pygments_lexer": "ipython3",
   "version": "3.6.8"
  }
 },
 "nbformat": 4,
 "nbformat_minor": 2
}
