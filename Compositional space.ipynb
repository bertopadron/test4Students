{
 "cells": [
  {
   "cell_type": "markdown",
   "metadata": {},
   "source": [
    "# Compositional space"
   ]
  },
  {
   "cell_type": "markdown",
   "metadata": {},
   "source": [
    "If there is something different when you learn thermodynamics in the high school and when it is recalled in a more advanced course in petrology is the importance of the kind of matter (after all we are dealing with diferent kind of rocks with diferent compositions). In petrology we are chiefely concern about changes in matter (aka mineral transformation) so it is important to deal with compositions. If we disregard the crust, the composition of the bulk silicate Earth is rather simple (in its extreme laconic representation it can be defined as MgO-SiO2 (then FeO-Al2O3-CaO-H2O). Let's explore some possible reactions in this system"
   ]
  },
  {
   "cell_type": "code",
   "execution_count": 2,
   "metadata": {},
   "outputs": [],
   "source": [
    "import numpy as np"
   ]
  },
  {
   "cell_type": "markdown",
   "metadata": {},
   "source": [
    "Let's imagine we want to balance a quemical mineral reaction, for instances between forsterite Mg2SiO4 (fo), quartz SiO2 (q) and periclase MgO (per). First write the vectors defining these minerals in the MgO and SiO2 compositional space (2 compositions, k = 2). "
   ]
  },
  {
   "cell_type": "markdown",
   "metadata": {},
   "source": [
    "|  component (k)   | fo | q | per |\n",
    "|------|---|---|---|\n",
    "|MgO   | 2 | 0 | 1 |\n",
    "|SiO2  | 1 | 1 | 0 |\n"
   ]
  },
  {
   "cell_type": "code",
   "execution_count": 3,
   "metadata": {},
   "outputs": [],
   "source": [
    "fo = np.array([[2], [1]])\n",
    "q  = np.array([[0], [1]])\n",
    "per = np.array([[1], [0]])"
   ]
  },
  {
   "cell_type": "markdown",
   "metadata": {},
   "source": [
    "you can solve this problem by writing up a system of equations (2 equations, one per component). So let's call $x$ and $y$ the amount of forsterite and quartz (in number of moles) respectively. So for the first component MgO we have,\n",
    "\n",
    "$$\n",
    "2x + 0y = 1 \n",
    "$$\n",
    "\n",
    "and for the SiO2\n",
    "\n",
    "$$\n",
    "1x + 1y = 0 \n",
    "$$\n",
    "\n",
    "so in the school you would write\n",
    "\n",
    "\\begin{cases} 2x = 1 \\\\ x + y = 0 \\end{cases}\n",
    "\n",
    "a quite easy to solve equation... $x = 1/2$ and $y = -1/2$.\n",
    "\n",
    "In the high school, they probably told you to write the same in matrix notation,\n",
    "\n",
    "$$\n",
    "\\begin{bmatrix} 2 & 0 \\\\ 1 & 1 \\end{bmatrix}\n",
    "\\begin{bmatrix} x \\\\ y \\end{bmatrix} =\n",
    "\\begin{bmatrix} 1 \\\\ 0 \\end{bmatrix}\n",
    "$$\n",
    "\n",
    "$$\\textbf{A}\\cdot \\textbf{x} = \\textbf{b}$$\n",
    "\n",
    "where $\\textbf{b}$ is the vector defining periclase. "
   ]
  },
  {
   "cell_type": "code",
   "execution_count": 4,
   "metadata": {},
   "outputs": [],
   "source": [
    "b = np.array([1, 0])"
   ]
  },
  {
   "cell_type": "markdown",
   "metadata": {},
   "source": [
    "So now let's do this calculation with python (numpy). First create the matrix $\\textbf{A}$ by appending the forsterite and quartz vector. "
   ]
  },
  {
   "cell_type": "code",
   "execution_count": 5,
   "metadata": {},
   "outputs": [
    {
     "name": "stdout",
     "output_type": "stream",
     "text": [
      "[[2 0]\n",
      " [1 1]]\n"
     ]
    }
   ],
   "source": [
    "A = np.append(fo,q,axis = 1)\n",
    "print(A)"
   ]
  },
  {
   "cell_type": "markdown",
   "metadata": {},
   "source": [
    "The funny \n",
    "``` python \n",
    "x = 1 \n",
    "```\n",
    "means the way the vectors are appended (try without it to see what happens). And now simply solve for $\\textbf{x}$"
   ]
  },
  {
   "cell_type": "code",
   "execution_count": 6,
   "metadata": {},
   "outputs": [
    {
     "name": "stdout",
     "output_type": "stream",
     "text": [
      "[ 0.5 -0.5]\n"
     ]
    }
   ],
   "source": [
    "x = np.linalg.inv(A).dot(b)\n",
    "print(x)"
   ]
  },
  {
   "cell_type": "markdown",
   "metadata": {},
   "source": [
    "So now we are in the position to write the chemical balanced equation as \n",
    "\n",
    "1/2 for - 1/2 q = per\n",
    "\n",
    "or more naturally\n",
    "\n",
    "1/2 fo = per + 1/2 q \n",
    "\n",
    "or\n",
    "\n",
    "fo = 2per + q "
   ]
  },
  {
   "cell_type": "markdown",
   "metadata": {},
   "source": [
    "If you feel you might a refresh in linear algebra try this winkling little mathematician from the MIT\n",
    "https://www.youtube.com/watch?v=J7DzL2_Na80"
   ]
  },
  {
   "cell_type": "markdown",
   "metadata": {},
   "source": [
    "# Another way to do it\n",
    "You might wonder how do you know that periclase is the product phase of reacting quartz and forsterite. The answer is indeed irrelevant, you might interchange periclase by forsterite and you will get the same answer. Actually the reallity is that periclase and quartz are the product phases of the decomposition of forsterite (or the reverse, periclase and quartz react to form forsterite). So all the three vectors are related, no matter which mineral phase you use as $\\textbf{b}$ vector. A more elegant way to solve the problem is to consider as $z$ as the amount of periclase and add a new column to our matrix, by noting that\n",
    "\n",
    "\\begin{cases} 2x + z = 0 \\\\ x + y + z = 0 \\end{cases}\n",
    "\n",
    "or\n",
    "$$\n",
    "\\begin{bmatrix} 2 & 0 & 1\\\\ 1 & 1 & 1 \\end{bmatrix}\n",
    "\\begin{bmatrix} x \\\\ y \\\\ z \\end{bmatrix} =\n",
    "\\begin{bmatrix} 0 \\\\ 0 \\\\ 0 \\end{bmatrix}\n",
    "$$\n",
    "\n",
    "So we can simply look for the so-called null space of the matrix composed of all phases $\\textbf{C}$. \n",
    "\n",
    "$$\n",
    "C = \\begin{bmatrix} 2 & 0 & 1\\\\ 1 & 1 & 1 \\end{bmatrix}\n",
    "$$\n"
   ]
  },
  {
   "cell_type": "code",
   "execution_count": 7,
   "metadata": {},
   "outputs": [
    {
     "name": "stdout",
     "output_type": "stream",
     "text": [
      "[[2 0 1]\n",
      " [1 1 0]]\n"
     ]
    }
   ],
   "source": [
    "C = np.array([[2,0,1],[1,1,0]])\n",
    "print(C)"
   ]
  },
  {
   "cell_type": "code",
   "execution_count": 8,
   "metadata": {},
   "outputs": [],
   "source": [
    "from scipy.linalg import null_space\n",
    "ns = null_space(C)"
   ]
  },
  {
   "cell_type": "code",
   "execution_count": 9,
   "metadata": {},
   "outputs": [
    {
     "name": "stdout",
     "output_type": "stream",
     "text": [
      "[[-0.40824829]\n",
      " [ 0.40824829]\n",
      " [ 0.81649658]]\n"
     ]
    }
   ],
   "source": [
    "print(ns)"
   ]
  },
  {
   "cell_type": "markdown",
   "metadata": {},
   "source": [
    "To make it prettier divide by the smaller coefficient"
   ]
  },
  {
   "cell_type": "code",
   "execution_count": 10,
   "metadata": {},
   "outputs": [
    {
     "data": {
      "text/plain": [
       "array([[ 1.],\n",
       "       [-1.],\n",
       "       [-2.]])"
      ]
     },
     "execution_count": 10,
     "metadata": {},
     "output_type": "execute_result"
    }
   ],
   "source": [
    "ns/ns[0,0]"
   ]
  },
  {
   "cell_type": "markdown",
   "metadata": {},
   "source": [
    "that gives you the same result, \n",
    "```python\n",
    "1.0 fo  -1.0 q - 2.0 per = 0 \n",
    "1.0 fo = 1.0 q 2.0 per \n",
    "```"
   ]
  },
  {
   "cell_type": "markdown",
   "metadata": {},
   "source": [
    "for completeness the $\\textbf{C}$ matrix has a rank of 2, meaning that all minerals (vectors) can be defined in a cartesian coordinates (2-dimensions). This is another way to say that the systems has efectively 2 components."
   ]
  },
  {
   "cell_type": "code",
   "execution_count": 11,
   "metadata": {},
   "outputs": [
    {
     "data": {
      "text/plain": [
       "2"
      ]
     },
     "execution_count": 11,
     "metadata": {},
     "output_type": "execute_result"
    }
   ],
   "source": [
    "from numpy.linalg import matrix_rank\n",
    "matrix_rank(C)"
   ]
  },
  {
   "cell_type": "markdown",
   "metadata": {},
   "source": [
    "# Exercise\n",
    "Write the linear dependency (i.e. reactions) between spinel MgAl2O4 (sp), enstatite Mg2Si2O6 (en), forsterite Mg2SiO4 (fo) and cordierite Mg2Al4Si5O18 (crd)\n",
    "\n",
    "|k     |sp |en |fo |crd|\n",
    "|------|---|---|---|---|\n",
    "|MgO   | 1 | 2 | 2 | 2 |\n",
    "|SiO2  | 0 | 2 | 1 | 5 |\n",
    "|Al2O3 | 1 | 0 | 0 | 2 |"
   ]
  },
  {
   "cell_type": "code",
   "execution_count": 12,
   "metadata": {},
   "outputs": [
    {
     "name": "stdout",
     "output_type": "stream",
     "text": [
      "[[2 0 1]\n",
      " [1 1 0]]\n"
     ]
    }
   ],
   "source": [
    "D = np.array([[1,2,2,2],[0,2,1,5],[1,0,0,2]])\n",
    "print(C)"
   ]
  },
  {
   "cell_type": "code",
   "execution_count": 13,
   "metadata": {},
   "outputs": [
    {
     "name": "stdout",
     "output_type": "stream",
     "text": [
      "[[-0.26967994]\n",
      " [-0.67419986]\n",
      " [ 0.67419986]\n",
      " [ 0.13483997]]\n"
     ]
    }
   ],
   "source": [
    "Ex = null_space(D)\n",
    "print(Ex)"
   ]
  },
  {
   "cell_type": "code",
   "execution_count": 14,
   "metadata": {},
   "outputs": [
    {
     "data": {
      "text/plain": [
       "array([[ 0.4],\n",
       "       [ 1. ],\n",
       "       [-1. ],\n",
       "       [-0.2]])"
      ]
     },
     "execution_count": 14,
     "metadata": {},
     "output_type": "execute_result"
    }
   ],
   "source": [
    "Ex/Ex[1,0]"
   ]
  },
  {
   "cell_type": "markdown",
   "metadata": {},
   "source": [
    "```python\n",
    "0.400 sp 1.00 en = 1.00 fo 0.200 crd  \n",
    "```"
   ]
  },
  {
   "cell_type": "markdown",
   "metadata": {},
   "source": [
    "This system has 3 components (independently variable components)"
   ]
  },
  {
   "cell_type": "code",
   "execution_count": 15,
   "metadata": {},
   "outputs": [
    {
     "data": {
      "text/plain": [
       "3"
      ]
     },
     "execution_count": 15,
     "metadata": {},
     "output_type": "execute_result"
    }
   ],
   "source": [
    "from numpy.linalg import matrix_rank\n",
    "matrix_rank(D)"
   ]
  },
  {
   "cell_type": "markdown",
   "metadata": {},
   "source": [
    "# What about having more mineral phases in the system?"
   ]
  },
  {
   "cell_type": "markdown",
   "metadata": {},
   "source": [
    "Sillimanite can also defined in the previous 3 component system (k = 3). \n",
    "\n",
    "\n",
    "|k     |sp |en |fo |crd|sill|\n",
    "|------|---|---|---|---|---|\n",
    "|MgO   | 1 | 2 | 2 | 2 | 0 |\n",
    "|SiO2  | 0 | 2 | 1 | 5 | 1 |\n",
    "|Al2O3 | 1 | 0 | 0 | 2 | 1 |"
   ]
  },
  {
   "cell_type": "code",
   "execution_count": 19,
   "metadata": {},
   "outputs": [
    {
     "data": {
      "text/plain": [
       "3"
      ]
     },
     "execution_count": 19,
     "metadata": {},
     "output_type": "execute_result"
    }
   ],
   "source": [
    "E = np.array([[1,2,2,2,0],[0,2,1,5,1],[1,0,0,2,1]])\n",
    "phases_E = np.array(['sp', 'en', 'fo', 'crd', 'sill'])\n",
    "np.linalg.matrix_rank(D)"
   ]
  },
  {
   "cell_type": "code",
   "execution_count": 20,
   "metadata": {},
   "outputs": [
    {
     "name": "stdout",
     "output_type": "stream",
     "text": [
      "[[-0.14515292 -0.33909446]\n",
      " [-0.71206351 -0.05629959]\n",
      " [ 0.53747291  0.45201787]\n",
      " [ 0.24716706 -0.22617105]\n",
      " [-0.3491812   0.79143655]]\n"
     ]
    }
   ],
   "source": [
    "T = null_space(E)\n",
    "print(T)"
   ]
  },
  {
   "cell_type": "markdown",
   "metadata": {},
   "source": [
    "The null space of $\\textbf{C}$ contains now two columns (two independent reactions). These 2 independent reactions span the reaction space and they can be combined linearly to generate all the reactions in that space. Because in a 3 components systems only 4 (non-degenerated) phases can be involved in an univariant reaction, the number of univariant reactions taking 5 phases is 5. You can find these 5 equations by zerothing one coefficient of on column of the null by using the other column. For instance in the previous reaction we computed sill is lacking, customary this is represented as [sill]. So we can make the last row of the first column zeroth by dividing the last column by "
   ]
  },
  {
   "cell_type": "code",
   "execution_count": 21,
   "metadata": {},
   "outputs": [
    {
     "name": "stdout",
     "output_type": "stream",
     "text": [
      "['sp' 'en' 'fo' 'crd' 'sill']\n"
     ]
    },
    {
     "data": {
      "text/plain": [
       "array([ 0.4,  1. , -1. , -0.2, -0. ])"
      ]
     },
     "execution_count": 21,
     "metadata": {},
     "output_type": "execute_result"
    }
   ],
   "source": [
    "no_sill = T[:,0]-T[4][0]*T[:,1]/T[4][1]\n",
    "print(phases_E)\n",
    "no_sill/no_sill[1]"
   ]
  },
  {
   "cell_type": "markdown",
   "metadata": {},
   "source": [
    "giving the same result as above"
   ]
  },
  {
   "cell_type": "markdown",
   "metadata": {},
   "source": [
    "```python\n",
    "0.400 sp 1.00 en = 1.00 fo 0.200 crd 0 sill\n",
    "```"
   ]
  },
  {
   "cell_type": "markdown",
   "metadata": {},
   "source": [
    "# Back to real world. Taking into account uncertainties"
   ]
  },
  {
   "cell_type": "code",
   "execution_count": 22,
   "metadata": {},
   "outputs": [],
   "source": [
    "F = np.array([[1,0,3,2,3],[2,3,0,7,6],[1,1,2,3,4],[0,2,1,2,5],[4,1,0,9,2]])\n",
    "error = np.array([[-0.0253,0.0055,0.0117,0.0039,0.0478],\n",
    "                  [-0.0152,0.0242,-0.0202,0.0269,0.0259],\n",
    "                  [-0.0066,0.0106,0.0023,0.0039,0.0258],\n",
    "                  [0.0005,0.0008,-0.0268,-0.0192,0.0057],\n",
    "                  [-0.0041,0.0287,-0.0332,0.0255,0.0132]]) "
   ]
  },
  {
   "cell_type": "code",
   "execution_count": 23,
   "metadata": {},
   "outputs": [
    {
     "data": {
      "text/plain": [
       "3"
      ]
     },
     "execution_count": 23,
     "metadata": {},
     "output_type": "execute_result"
    }
   ],
   "source": [
    "np.linalg.matrix_rank(F)"
   ]
  },
  {
   "cell_type": "code",
   "execution_count": 24,
   "metadata": {},
   "outputs": [
    {
     "data": {
      "text/plain": [
       "5"
      ]
     },
     "execution_count": 24,
     "metadata": {},
     "output_type": "execute_result"
    }
   ],
   "source": [
    "np.linalg.matrix_rank(F+error)"
   ]
  },
  {
   "cell_type": "markdown",
   "metadata": {},
   "source": [
    "A popular technique to treat near-deficient rank matrices is the singular value decomposition (SVD) technique"
   ]
  },
  {
   "cell_type": "code",
   "execution_count": 25,
   "metadata": {},
   "outputs": [],
   "source": [
    "U, s, Vt = np.linalg.svd(F+error)"
   ]
  },
  {
   "cell_type": "code",
   "execution_count": 26,
   "metadata": {},
   "outputs": [
    {
     "data": {
      "text/plain": [
       "array([1.56308218e+01, 5.96438169e+00, 3.14968041e+00, 2.16637426e-02,\n",
       "       7.78378473e-03])"
      ]
     },
     "execution_count": 26,
     "metadata": {},
     "output_type": "execute_result"
    }
   ],
   "source": [
    "s"
   ]
  },
  {
   "cell_type": "code",
   "execution_count": 27,
   "metadata": {},
   "outputs": [],
   "source": [
    "V = Vt.transpose()"
   ]
  },
  {
   "cell_type": "code",
   "execution_count": 28,
   "metadata": {},
   "outputs": [
    {
     "data": {
      "text/plain": [
       "array([[-0.26608873,  0.32965724, -0.26150617, -0.85032531,  0.17054116],\n",
       "       [-0.22060015, -0.16677419,  0.48662966,  0.02086705,  0.82841903],\n",
       "       [-0.10569486, -0.36172741, -0.81836692,  0.21957155,  0.37422693],\n",
       "       [-0.75477376,  0.49146556, -0.04546687,  0.42345446, -0.08600738],\n",
       "       [-0.54742811, -0.7008048 ,  0.15170512, -0.22132802, -0.37039784]])"
      ]
     },
     "execution_count": 28,
     "metadata": {},
     "output_type": "execute_result"
    }
   ],
   "source": [
    "V"
   ]
  },
  {
   "cell_type": "code",
   "execution_count": 32,
   "metadata": {},
   "outputs": [
    {
     "data": {
      "text/plain": [
       "array([[-0.85032531,  0.17054116],\n",
       "       [ 0.02086705,  0.82841903],\n",
       "       [ 0.21957155,  0.37422693],\n",
       "       [ 0.42345446, -0.08600738],\n",
       "       [-0.22132802, -0.37039784]])"
      ]
     },
     "execution_count": 32,
     "metadata": {},
     "output_type": "execute_result"
    }
   ],
   "source": [
    "V[:,3:5]"
   ]
  },
  {
   "cell_type": "markdown",
   "metadata": {},
   "source": [
    "that can be compared to the original (free of errors) Matrix. Note the change of position and sign of columns."
   ]
  },
  {
   "cell_type": "code",
   "execution_count": 36,
   "metadata": {},
   "outputs": [
    {
     "data": {
      "text/plain": [
       "array([[-0.13491512,  0.85545187],\n",
       "       [-0.82901362,  0.01537612],\n",
       "       [-0.38077803, -0.20617491],\n",
       "       [ 0.06745756, -0.42772594],\n",
       "       [ 0.38077803,  0.20617491]])"
      ]
     },
     "execution_count": 36,
     "metadata": {},
     "output_type": "execute_result"
    }
   ],
   "source": [
    "null_space(F)"
   ]
  },
  {
   "cell_type": "code",
   "execution_count": 37,
   "metadata": {},
   "outputs": [],
   "source": [
    "U_0, s_0, Vt_0 = np.linalg.svd(F)"
   ]
  },
  {
   "cell_type": "code",
   "execution_count": 38,
   "metadata": {},
   "outputs": [
    {
     "data": {
      "text/plain": [
       "array([[-0.13491512,  0.85545187],\n",
       "       [-0.82901362,  0.01537612],\n",
       "       [-0.38077803, -0.20617491],\n",
       "       [ 0.06745756, -0.42772594],\n",
       "       [ 0.38077803,  0.20617491]])"
      ]
     },
     "execution_count": 38,
     "metadata": {},
     "output_type": "execute_result"
    }
   ],
   "source": [
    "V_0 = Vt_0.transpose()\n",
    "V_0[:,3:5]"
   ]
  },
  {
   "cell_type": "code",
   "execution_count": 39,
   "metadata": {},
   "outputs": [
    {
     "data": {
      "text/plain": [
       "array([1.55856448e+01, 5.93428322e+00, 3.14196714e+00, 5.10185451e-16,\n",
       "       1.53299893e-16])"
      ]
     },
     "execution_count": 39,
     "metadata": {},
     "output_type": "execute_result"
    }
   ],
   "source": [
    "s_0"
   ]
  },
  {
   "cell_type": "code",
   "execution_count": null,
   "metadata": {},
   "outputs": [],
   "source": []
  }
 ],
 "metadata": {
  "kernelspec": {
   "display_name": "Python 3",
   "language": "python",
   "name": "python3"
  },
  "language_info": {
   "codemirror_mode": {
    "name": "ipython",
    "version": 3
   },
   "file_extension": ".py",
   "mimetype": "text/x-python",
   "name": "python",
   "nbconvert_exporter": "python",
   "pygments_lexer": "ipython3",
   "version": "3.7.4"
  }
 },
 "nbformat": 4,
 "nbformat_minor": 2
}
