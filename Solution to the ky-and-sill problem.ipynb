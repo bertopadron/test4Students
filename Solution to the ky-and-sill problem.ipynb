{
 "cells": [
  {
   "cell_type": "markdown",
   "metadata": {},
   "source": [
    "* Mount Trumbull, AZ, USA\n",
    "* San Carlos, AZ, USA\n",
    "* The Thumb, AZ, USA  "
   ]
  },
  {
   "cell_type": "markdown",
   "metadata": {},
   "source": [
    "# Solve for T, -P and $\\mu$ of the invariant point\n",
    "\n",
    "From the fundamental equation $u(s,v,m_1,...m_k)$ for each phase\n",
    "\n",
    "\\begin{cases} u^{and} = Ts^{and} -Pv^{and} + \\mu_{Al_2SiO_5} m^{and} \\\\ \n",
    "              u^{ky} = Ts^{ky} -Pv^{ky} + \\mu_{Al_2SiO_5} m^{ky} \\\\\n",
    "              u^{sill} = Ts^{sill} -Pv^{sill} + \\mu_{Al_2SiO_5} m^{sill}\n",
    "              \\end{cases}\n",
    "\n",
    "$$\n",
    "\\begin{bmatrix} s^{and} & v^{and} & m^{and}\\\\ s^{ky} & v^{ky} & m^{ky} \\\\ s^{sill} & v^{sill} & m^{sill} \\end{bmatrix}\n",
    "\\begin{bmatrix} T \\\\ -P \\\\ \\mu_{Al_2SiO_5} \\end{bmatrix} =\n",
    "\\begin{bmatrix} u^{and} \\\\ u^{ky} \\\\ u^{sill} \\end{bmatrix}\n",
    "$$"
   ]
  },
  {
   "cell_type": "code",
   "execution_count": 1,
   "metadata": {},
   "outputs": [
    {
     "name": "stdout",
     "output_type": "stream",
     "text": [
      "[ 7.78031632e+02 -3.81939860e+03 -2.50577149e+06]\n"
     ]
    }
   ],
   "source": [
    "import numpy as np\n",
    "\n",
    "A = np.array([[251.065,5.19585,1],[241.994,4.45214,1],[253.916,5.01131,1]])\n",
    "b = np.array([-2330280, -2334497, -2327357])\n",
    "x = np.linalg.inv(A).dot(b)\n",
    "print(x)"
   ]
  },
  {
   "cell_type": "code",
   "execution_count": 2,
   "metadata": {},
   "outputs": [
    {
     "name": "stdout",
     "output_type": "stream",
     "text": [
      "[[251.065     5.19585   1.     ]\n",
      " [241.994     4.45214   1.     ]\n",
      " [253.916     5.01131   1.     ]]\n"
     ]
    }
   ],
   "source": [
    "print(A)"
   ]
  },
  {
   "cell_type": "code",
   "execution_count": 3,
   "metadata": {},
   "outputs": [
    {
     "name": "stdout",
     "output_type": "stream",
     "text": [
      "[-2330280 -2334497 -2327357]\n"
     ]
    }
   ],
   "source": [
    "print(b)"
   ]
  },
  {
   "cell_type": "markdown",
   "metadata": {},
   "source": [
    "# Solving the 3 univariant reactions"
   ]
  },
  {
   "cell_type": "code",
   "execution_count": 4,
   "metadata": {},
   "outputs": [],
   "source": [
    "import sympy as sp\n",
    "from sympy.interactive import printing"
   ]
  },
  {
   "cell_type": "code",
   "execution_count": 5,
   "metadata": {},
   "outputs": [],
   "source": [
    "printing.init_printing(use_latex = True)\n",
    "u_sill,s_sill,v_sill,m_sill = sp.symbols('u^sill,s^sill,v^sill,m^sill')\n",
    "u_and, s_and, v_and, m_and  = sp.symbols('u^and ,s^and ,v^and ,m^and')\n",
    "u_ky, s_ky, v_ky, m_ky  = sp.symbols('u^ky ,s^ky ,v^ky ,m^ky')\n",
    "T,P,mu = sp.symbols('T,P,mu')"
   ]
  },
  {
   "cell_type": "code",
   "execution_count": 6,
   "metadata": {},
   "outputs": [],
   "source": [
    "internal_energy_and = sp.Eq(u_and,T*s_and-P*v_and+mu*m_and)\n",
    "internal_energy_sill = sp.Eq(u_sill,T*s_sill-P*v_sill+mu*m_sill)\n",
    "internal_energy_ky = sp.Eq(u_ky,T*s_ky-P*v_ky+mu*m_ky)\n"
   ]
  },
  {
   "cell_type": "markdown",
   "metadata": {},
   "source": [
    "## andalusite - sillimanite"
   ]
  },
  {
   "cell_type": "code",
   "execution_count": 7,
   "metadata": {},
   "outputs": [
    {
     "data": {
      "image/png": "[encoded data removed]",
      "text/latex": [
       "$$\\frac{P v^{and} - T s^{and} + u^{and}}{m^{and}}$$"
      ],
      "text/plain": [
       "P⋅v__and - T⋅s__and + u__and\n",
       "────────────────────────────\n",
       "           m__and           "
      ]
     },
     "execution_count": 7,
     "metadata": {},
     "output_type": "execute_result"
    }
   ],
   "source": [
    "chemical_potential = sp.solve(internal_energy_and,mu)\n",
    "chemical_potential[0]"
   ]
  },
  {
   "cell_type": "code",
   "execution_count": 8,
   "metadata": {},
   "outputs": [],
   "source": [
    "sill_and = internal_energy_sill.subs({mu:chemical_potential[0]})"
   ]
  },
  {
   "cell_type": "code",
   "execution_count": 9,
   "metadata": {},
   "outputs": [
    {
     "data": {
      "image/png": "[encoded data removed]",
      "text/latex": [
       "$$\\left [ \\frac{T m^{and} s^{sill} - T m^{sill} s^{and} - m^{and} u^{sill} + m^{sill} u^{and}}{m^{and} v^{sill} - m^{sill} v^{and}}\\right ]$$"
      ],
      "text/plain": [
       "⎡T⋅m__and⋅s__sill - T⋅m__sill⋅s__and - m__and⋅u__sill + m__sill⋅u__and⎤\n",
       "⎢─────────────────────────────────────────────────────────────────────⎥\n",
       "⎣                   m__and⋅v__sill - m__sill⋅v__and                   ⎦"
      ]
     },
     "execution_count": 9,
     "metadata": {},
     "output_type": "execute_result"
    }
   ],
   "source": [
    "pressure_sill_and = sp.solve(sill_and,P)\n",
    "pressure_sill_and"
   ]
  },
  {
   "cell_type": "code",
   "execution_count": 10,
   "metadata": {},
   "outputs": [
    {
     "data": {
      "image/png": "[encoded data removed]",
      "text/latex": [
       "$$- 15.4492251002493 T + 15839.3844153029$$"
      ],
      "text/plain": [
       "-15.4492251002493⋅T + 15839.3844153029"
      ]
     },
     "execution_count": 10,
     "metadata": {},
     "output_type": "execute_result"
    }
   ],
   "source": [
    "pressure_sill_and[0].subs({m_and:1,m_sill:1,s_sill:253.916,s_and:251.065,u_and:-2330280,u_sill:-2327357,v_and:5.19585,v_sill:5.01131})"
   ]
  },
  {
   "cell_type": "code",
   "execution_count": 11,
   "metadata": {},
   "outputs": [],
   "source": [
    "def sill_and(T):\n",
    "    return -15.4492251002493*𝑇+15839.3844153029"
   ]
  },
  {
   "cell_type": "code",
   "execution_count": 12,
   "metadata": {},
   "outputs": [
    {
     "data": {
      "text/plain": [
       "array([8114.77186518, 7256.48158183, 6398.19129848, 5539.90101514,\n",
       "       4681.61073179, 3823.32044844, 2965.0301651 , 2106.73988175,\n",
       "       1248.4495984 ,  390.15931505])"
      ]
     },
     "execution_count": 12,
     "metadata": {},
     "output_type": "execute_result"
    }
   ],
   "source": [
    "T = np.linspace(500, 1000, 10, endpoint=True)\n",
    "sill_and(T)"
   ]
  },
  {
   "cell_type": "code",
   "execution_count": null,
   "metadata": {},
   "outputs": [],
   "source": []
  },
  {
   "cell_type": "code",
   "execution_count": null,
   "metadata": {},
   "outputs": [],
   "source": []
  },
  {
   "cell_type": "markdown",
   "metadata": {},
   "source": [
    "## kyanite - andalusite"
   ]
  },
  {
   "cell_type": "code",
   "execution_count": 13,
   "metadata": {},
   "outputs": [
    {
     "data": {
      "image/png": "[encoded data removed]",
      "text/latex": [
       "$$12.1969584918853 T - 5670.22091944441$$"
      ],
      "text/plain": [
       "12.1969584918853⋅T - 5670.22091944441"
      ]
     },
     "execution_count": 13,
     "metadata": {},
     "output_type": "execute_result"
    }
   ],
   "source": [
    "ky_and = internal_energy_ky.subs({mu:chemical_potential[0]})\n",
    "pressure_ky_and = sp.solve(ky_and,P)\n",
    "pressure_ky_and[0].subs({m_and:1,m_ky:1,s_ky:241.994,s_and:251.065,u_and:-2330280,u_ky:-2334497,v_and:5.19585,v_ky:4.45214})"
   ]
  },
  {
   "cell_type": "code",
   "execution_count": 14,
   "metadata": {},
   "outputs": [],
   "source": [
    "def ky_and(T):\n",
    "    return 12.1969584918853*T-5670.22091944441"
   ]
  },
  {
   "cell_type": "markdown",
   "metadata": {},
   "source": [
    "## kyanite - sillimanite"
   ]
  },
  {
   "cell_type": "code",
   "execution_count": 15,
   "metadata": {},
   "outputs": [
    {
     "data": {
      "image/png": "[encoded data removed]",
      "text/latex": [
       "$$21.3208863136434 T - 12768.9253715328$$"
      ],
      "text/plain": [
       "21.3208863136434⋅T - 12768.9253715328"
      ]
     },
     "execution_count": 15,
     "metadata": {},
     "output_type": "execute_result"
    }
   ],
   "source": [
    "chemical_potential_2 = sp.solve(internal_energy_sill,mu)\n",
    "ky_sill = internal_energy_ky.subs({mu:chemical_potential_2[0]})\n",
    "pressure_ky_sill = sp.solve(ky_sill,P)\n",
    "pressure_ky_sill[0].subs({m_sill:1,m_ky:1,s_ky:241.994,s_sill:253.916,u_sill:-2327357,u_ky:-2334497,v_sill:5.01131,v_ky:4.45214})"
   ]
  },
  {
   "cell_type": "code",
   "execution_count": 16,
   "metadata": {},
   "outputs": [],
   "source": [
    "def ky_sill(T):\n",
    "    return 21.3208863136434*T-12768.9253715328"
   ]
  },
  {
   "cell_type": "markdown",
   "metadata": {},
   "source": [
    "# Plotting"
   ]
  },
  {
   "cell_type": "code",
   "execution_count": 18,
   "metadata": {},
   "outputs": [
    {
     "data": {
      "image/png": "[encoded data removed]",
      "text/plain": [
       "<Figure size 432x288 with 1 Axes>"
      ]
     },
     "metadata": {
      "needs_background": "light"
     },
     "output_type": "display_data"
    }
   ],
   "source": [
    "import matplotlib.pyplot as plt\n",
    "\n",
    "fig, ax = plt.subplots()\n",
    "ax.plot(T, sill_and(T),label='sill_and')\n",
    "ax.plot(T, ky_and(T),label='ky_and')\n",
    "ax.plot(T, ky_sill(T),label='ky_sill')\n",
    "ax.plot(x[0], -x[1],'o')\n",
    "ax.legend(loc='best', fontsize=12)\n",
    "\n",
    "ax.set_xlabel('T (K)')\n",
    "ax.set_ylabel('P (bar)')\n",
    "ax.set_title('Andalusite - sillimanite - kyanite equilibria')\n",
    "ax.grid(True)\n",
    "\n",
    "# Show the plot\n",
    "plt.show()"
   ]
  },
  {
   "cell_type": "code",
   "execution_count": null,
   "metadata": {},
   "outputs": [],
   "source": []
  },
  {
   "cell_type": "code",
   "execution_count": null,
   "metadata": {},
   "outputs": [],
   "source": []
  }
 ],
 "metadata": {
  "kernelspec": {
   "display_name": "Python 3",
   "language": "python",
   "name": "python3"
  },
  "language_info": {
   "codemirror_mode": {
    "name": "ipython",
    "version": 3
   },
   "file_extension": ".py",
   "mimetype": "text/x-python",
   "name": "python",
   "nbconvert_exporter": "python",
   "pygments_lexer": "ipython3",
   "version": "3.6.8"
  }
 },
 "nbformat": 4,
 "nbformat_minor": 2
}
